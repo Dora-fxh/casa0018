{
 "cells": [
  {
   "cell_type": "code",
   "execution_count": 2,
   "metadata": {},
   "outputs": [],
   "source": [
    "\n",
    "import zipfile\n",
    "import random\n",
    "import tensorflow as tf\n",
    "from tensorflow.keras.optimizers import RMSprop,Adam\n",
    "from tensorflow.keras.preprocessing.image import ImageDataGenerator\n",
    "from shutil import copyfile\n",
    "from keras import layers\n",
    "from keras import models\n",
    "from PIL import Image\n",
    "import matplotlib.pyplot as plt\n",
    "import cv2\n",
    "# import transform\n",
    "# import torchvision\n",
    "# import torch"
   ]
  },
  {
   "cell_type": "code",
   "execution_count": 1,
   "metadata": {},
   "outputs": [],
   "source": [
    "import os\n",
    "##import os, shutil\n",
    "# The path to the directory where the original\n",
    "# dataset was uncompressed\n",
    "original_dataset_dir = 'C:\\\\Users\\\\a\\Documents\\\\casa\\\\casa0018\\\\final\\\\faceMask\\\\FaceMaskDataset\\\\'\n",
    "\n",
    "base_dir = 'C:\\\\Users\\\\a\\Documents\\\\casa\\\\casa0018\\\\final\\\\faceMask\\\\base'\n",
    "train_dir = os.path.join(base_dir, 'train')\n",
    "validation_dir = os.path.join(base_dir, 'validation')\n",
    "train_face_mask_dir = os.path.join(train_dir, 'face_mask')\n",
    "train_no_face_mask_dir = os.path.join(train_dir, 'no_face_mask')\n",
    "validation_face_mask_dir = os.path.join(validation_dir, 'face_mask')\n",
    "validation_no_face_mask_dir = os.path.join(validation_dir, 'no_face_mask')\n",
    "\n",
    "try:\n",
    "    # The directory where we will store our smaller dataset\n",
    "    \n",
    "    os.mkdir(base_dir)\n",
    "\n",
    "    # Directories for our training,\n",
    "    # validation and test splits\n",
    "    \n",
    "    os.mkdir(train_dir)\n",
    "   # validation_dir = os.path.join(base_dir, 'validation')\n",
    "    os.mkdir(validation_dir)\n",
    "#     test_dir = os.path.join(base_dir, 'test')\n",
    "#     os.mkdir(test_dir)\n",
    "\n",
    "    # Directory with our training face mask pictures\n",
    "#     train_face_mask_dir = os.path.join(train_dir, 'face_mask')\n",
    "    os.mkdir(train_face_mask_dir)\n",
    "\n",
    "    # Directory with our training no face mask pictures\n",
    "#     train_no_face_mask_dir = os.path.join(train_dir, 'no_face_mask')\n",
    "    os.mkdir(train_no_face_mask_dir)\n",
    "\n",
    "    # Directory with our validation face mask pictures\n",
    "#     validation_face_mask_dir = os.path.join(validation_dir, 'face_mask')\n",
    "    os.mkdir(validation_face_mask_dir)\n",
    "\n",
    "    # Directory with our validation no face mask pictures\n",
    "#     validation_no_face_mask_dir = os.path.join(validation_dir, 'no_face_mask')\n",
    "    os.mkdir(validation_no_face_mask_dir)\n",
    "\n",
    "\n",
    "except OSError:\n",
    "    pass\n"
   ]
  },
  {
   "cell_type": "code",
   "execution_count": 11,
   "metadata": {},
   "outputs": [],
   "source": [
    "import json\n",
    "import shutil,os\n",
    "from xml.dom import minidom\n",
    "def dis(datadir,maskDir,noMaskDir):\n",
    "    path = original_dataset_dir+datadir #position of the folder where xml andjpg files are\n",
    "    filelist = os.listdir(path)\n",
    "    facelist=[]      #put picture \n",
    "    masklist=[]\n",
    "    for file in filelist:\n",
    "        if ( \".xml\" in file ):\n",
    "            picture1 = file.split(\".\",1) #use“.”to divide the file name\n",
    "            picture=picture1[0]   #get the file name\n",
    "            compPath=os.path.join(path, file)\n",
    "\n",
    "            names=minidom.parse(compPath).getElementsByTagName('name')\n",
    "            try:\n",
    "                if names[0].firstChild.data=='face_mask':\n",
    "\n",
    "                    masklist.append(picture)\n",
    "                else:\n",
    "                    facelist.append(picture)\n",
    "            except IndexError:\n",
    "                print(compPath)\n",
    "        else:\n",
    "            continue\n",
    "    for pic in masklist:\n",
    "        fill(path+pic+\".jpg\",maskDir+ '\\\\'+pic+\".jpg\")\n",
    "#         shutil.copy(path+pic+\".jpg\", maskDir) #//put the .jpg which has the same name of  .xml to the folder\n",
    "       \n",
    "    for pic in facelist:\n",
    "        fill(path+pic+\".jpg\",noMaskDir+ '\\\\'+pic+\".jpg\")\n",
    "#         shutil.copy(path+pic+\".jpg\", noMaskDir)\n"
   ]
  },
  {
   "cell_type": "code",
   "execution_count": 22,
   "metadata": {},
   "outputs": [],
   "source": [
    "\n",
    "def fill(inpath,outpath): \n",
    "    image=Image.open(inpath)\n",
    "    image = image.convert('RGB')\n",
    "    w, h = image.size\n",
    "    background = Image.new('RGB', size=(max(w, h), max(w, h)), color=(127, 127, 127))  # create background，color is 127\n",
    "    length = int(abs(w - h) // 2)  # the length to fill\n",
    "    box = (length, 0) if w < h else (0, length)  # place to put\n",
    "    background.paste(image, box)\n",
    "    image_data=background.resize((256,256))#resize it smaller first\n",
    "    image_data.save(outpath)"
   ]
  },
  {
   "cell_type": "code",
   "execution_count": 29,
   "metadata": {},
   "outputs": [],
   "source": [
    "def distri(dir):\n",
    "    path0 = 'C:\\\\Users\\\\a\\Documents\\\\casa\\\\casa0018\\\\final\\\\faceMask'\n",
    "    filelist = os.listdir(path0+'\\\\base1'+dir)\n",
    "    \n",
    "    for file in filelist:\n",
    "        fill(path0+'\\\\base1'+dir+ file,path0+'\\\\base2'+dir+ file)"
   ]
  },
  {
   "cell_type": "code",
   "execution_count": 46,
   "metadata": {},
   "outputs": [],
   "source": [
    "distri('\\\\validation\\\\face_mask\\\\')\n",
    "distri('\\\\validation\\\\no_face_mask\\\\')\n"
   ]
  },
  {
   "cell_type": "code",
   "execution_count": null,
   "metadata": {},
   "outputs": [],
   "source": [
    "dis('train\\\\',train_face_mask_dir, train_no_face_mask_dir)\n",
    "dis('val\\\\',validation_face_mask_dir,validation_no_face_mask_dir)"
   ]
  },
  {
   "cell_type": "code",
   "execution_count": 3,
   "metadata": {},
   "outputs": [
    {
     "name": "stdout",
     "output_type": "stream",
     "text": [
      "2269\n",
      "3849\n",
      "1040\n",
      "799\n"
     ]
    }
   ],
   "source": [
    "print(len(os.listdir(train_face_mask_dir)))\n",
    "print(len(os.listdir(train_no_face_mask_dir)))\n",
    "print(len(os.listdir(validation_no_face_mask_dir)))\n",
    "print(len(os.listdir(validation_face_mask_dir)))"
   ]
  },
  {
   "cell_type": "code",
   "execution_count": 4,
   "metadata": {},
   "outputs": [
    {
     "name": "stdout",
     "output_type": "stream",
     "text": [
      "Found 6118 images belonging to 2 classes.\n",
      "Found 1839 images belonging to 2 classes.\n"
     ]
    }
   ],
   "source": [
    "TRAINING_DIR = train_dir\n",
    "train_datagen = ImageDataGenerator(rescale=1.0/255)#rescale=1.0/255.\n",
    "train_generator = train_datagen.flow_from_directory(TRAINING_DIR,\n",
    "                                                    batch_size=50,\n",
    "                                                    class_mode='binary',\n",
    "                                                    target_size=(150, 150))\n",
    "\n",
    "VALIDATION_DIR = validation_dir\n",
    "validation_datagen = ImageDataGenerator(rescale=1.0/255)#.\n",
    "validation_generator = validation_datagen.flow_from_directory(VALIDATION_DIR,\n",
    "                                                              batch_size=50,\n",
    "                                                              class_mode='binary',\n",
    "                                                              target_size=(150, 150))"
   ]
  },
  {
   "cell_type": "code",
   "execution_count": 6,
   "metadata": {},
   "outputs": [],
   "source": [
    "import tensorflow as tf\n",
    "from matplotlib import pyplot\n",
    "from tensorflow.keras.optimizers import RMSprop\n",
    "from tensorflow.keras.preprocessing.image import ImageDataGenerator"
   ]
  },
  {
   "cell_type": "code",
   "execution_count": 56,
   "metadata": {},
   "outputs": [],
   "source": [
    "def fit_model(lr,axes):\n",
    "    model = tf.keras.models.Sequential([\n",
    "        tf.keras.layers.Conv2D(64, (3, 3), activation='relu', input_shape=(150, 150, 3)),\n",
    "        tf.keras.layers.MaxPooling2D(2, 2),\n",
    "        tf.keras.layers.Conv2D(64, (3, 3), activation='relu'),\n",
    "        tf.keras.layers.MaxPooling2D(2, 2),\n",
    "#         tf.keras.layers.Conv2D(128, (3, 3), activation='relu'),\n",
    "#         tf.keras.layers.MaxPooling2D(2, 2),\n",
    "        tf.keras.layers.Flatten(),\n",
    "        tf.keras.layers.Dense(512, activation='relu'),\n",
    "        tf.keras.layers.Dense(1, activation='sigmoid')\n",
    "    ])\n",
    "\n",
    "    model.compile(optimizer=RMSprop(lr=lr), loss='binary_crossentropy', metrics=['acc'])\n",
    "    # fit model\n",
    "    history = model.fit(\n",
    "      train_generator,\n",
    "      steps_per_epoch=8,\n",
    "      epochs=15,\n",
    "      validation_data=validation_generator,\n",
    "      validation_steps=6)\n",
    "    # plot learning curves\n",
    "    axes.plot(history.history['acc'],'r',label='Training accuracy')\n",
    "    axes.plot(history.history['val_acc'],'b',label='Validation Accuracy')\n",
    "    title ='learning rate ='+str(lr)\n",
    "    axes.set_title(title)\n",
    "    axes.legend()\n",
    "    "
   ]
  },
  {
   "cell_type": "code",
   "execution_count": 57,
   "metadata": {
    "scrolled": false
   },
   "outputs": [
    {
     "name": "stdout",
     "output_type": "stream",
     "text": [
      "Epoch 1/15\n",
      "8/8 [==============================] - 8s 856ms/step - loss: 0.6763 - acc: 0.5825 - val_loss: 0.6649 - val_acc: 0.6467\n",
      "Epoch 2/15\n",
      "8/8 [==============================] - 6s 822ms/step - loss: 0.6466 - acc: 0.6803 - val_loss: 0.6513 - val_acc: 0.6567\n",
      "Epoch 3/15\n",
      "8/8 [==============================] - 6s 806ms/step - loss: 0.6115 - acc: 0.7429 - val_loss: 0.6376 - val_acc: 0.7267\n",
      "Epoch 4/15\n",
      "8/8 [==============================] - 6s 807ms/step - loss: 0.6013 - acc: 0.7717 - val_loss: 0.6335 - val_acc: 0.6300\n",
      "Epoch 5/15\n",
      "8/8 [==============================] - 7s 832ms/step - loss: 0.5722 - acc: 0.7717 - val_loss: 0.6019 - val_acc: 0.7800\n",
      "Epoch 6/15\n",
      "8/8 [==============================] - 6s 818ms/step - loss: 0.5672 - acc: 0.8046 - val_loss: 0.6163 - val_acc: 0.6200\n",
      "Epoch 7/15\n",
      "8/8 [==============================] - 7s 829ms/step - loss: 0.5485 - acc: 0.7510 - val_loss: 0.5764 - val_acc: 0.8000\n",
      "Epoch 8/15\n",
      "8/8 [==============================] - 7s 867ms/step - loss: 0.5292 - acc: 0.8402 - val_loss: 0.5568 - val_acc: 0.8400\n",
      "Epoch 9/15\n",
      "8/8 [==============================] - 7s 942ms/step - loss: 0.5000 - acc: 0.8580 - val_loss: 0.5485 - val_acc: 0.7833\n",
      "Epoch 10/15\n",
      "8/8 [==============================] - 7s 936ms/step - loss: 0.4951 - acc: 0.8255 - val_loss: 0.5212 - val_acc: 0.8467\n",
      "Epoch 11/15\n",
      "8/8 [==============================] - 7s 921ms/step - loss: 0.4756 - acc: 0.8459 - val_loss: 0.4983 - val_acc: 0.8533\n",
      "Epoch 12/15\n",
      "8/8 [==============================] - 8s 991ms/step - loss: 0.4497 - acc: 0.8952 - val_loss: 0.4915 - val_acc: 0.8467\n",
      "Epoch 13/15\n",
      "8/8 [==============================] - 7s 872ms/step - loss: 0.4797 - acc: 0.8161 - val_loss: 0.5066 - val_acc: 0.8033\n",
      "Epoch 14/15\n",
      "8/8 [==============================] - 7s 876ms/step - loss: 0.4746 - acc: 0.8284 - val_loss: 0.4958 - val_acc: 0.8167\n",
      "Epoch 15/15\n",
      "8/8 [==============================] - 8s 953ms/step - loss: 0.4336 - acc: 0.8756 - val_loss: 0.4634 - val_acc: 0.8400\n",
      "Epoch 1/15\n",
      "8/8 [==============================] - 8s 968ms/step - loss: 0.7692 - acc: 0.5046 - val_loss: 0.6632 - val_acc: 0.6233\n",
      "Epoch 2/15\n",
      "8/8 [==============================] - 7s 950ms/step - loss: 0.6078 - acc: 0.6980 - val_loss: 0.5823 - val_acc: 0.7433\n",
      "Epoch 3/15\n",
      "8/8 [==============================] - 7s 954ms/step - loss: 0.5286 - acc: 0.7831 - val_loss: 0.5089 - val_acc: 0.7967\n",
      "Epoch 4/15\n",
      "8/8 [==============================] - 9s 1s/step - loss: 0.4767 - acc: 0.8027 - val_loss: 0.5494 - val_acc: 0.7300\n",
      "Epoch 5/15\n",
      "8/8 [==============================] - 7s 921ms/step - loss: 0.4268 - acc: 0.8195 - val_loss: 0.5096 - val_acc: 0.7033\n",
      "Epoch 6/15\n",
      "8/8 [==============================] - 7s 913ms/step - loss: 0.3871 - acc: 0.8348 - val_loss: 0.4099 - val_acc: 0.8467\n",
      "Epoch 7/15\n",
      "8/8 [==============================] - 7s 942ms/step - loss: 0.3110 - acc: 0.8807 - val_loss: 0.3812 - val_acc: 0.8633\n",
      "Epoch 8/15\n",
      "8/8 [==============================] - 8s 980ms/step - loss: 0.3183 - acc: 0.8987 - val_loss: 0.4211 - val_acc: 0.8367\n",
      "Epoch 9/15\n",
      "8/8 [==============================] - 7s 898ms/step - loss: 0.4248 - acc: 0.8224 - val_loss: 0.4155 - val_acc: 0.8333\n",
      "Epoch 10/15\n",
      "8/8 [==============================] - 7s 923ms/step - loss: 0.2711 - acc: 0.9029 - val_loss: 0.4437 - val_acc: 0.8000\n",
      "Epoch 11/15\n",
      "8/8 [==============================] - 7s 911ms/step - loss: 0.2638 - acc: 0.9043 - val_loss: 0.3133 - val_acc: 0.8833\n",
      "Epoch 12/15\n",
      "8/8 [==============================] - 7s 865ms/step - loss: 0.2563 - acc: 0.9075 - val_loss: 0.3649 - val_acc: 0.8433\n",
      "Epoch 13/15\n",
      "8/8 [==============================] - 7s 934ms/step - loss: 0.3234 - acc: 0.8719 - val_loss: 0.3181 - val_acc: 0.8767\n",
      "Epoch 14/15\n",
      "8/8 [==============================] - 7s 882ms/step - loss: 0.3119 - acc: 0.8865 - val_loss: 0.3389 - val_acc: 0.8733\n",
      "Epoch 15/15\n",
      "8/8 [==============================] - 7s 869ms/step - loss: 0.2711 - acc: 0.8887 - val_loss: 0.2999 - val_acc: 0.8833\n",
      "Epoch 1/15\n",
      "8/8 [==============================] - 8s 884ms/step - loss: 4.8021 - acc: 0.5477 - val_loss: 0.6701 - val_acc: 0.5033\n",
      "Epoch 2/15\n",
      "8/8 [==============================] - 7s 911ms/step - loss: 0.6624 - acc: 0.6976 - val_loss: 0.4935 - val_acc: 0.8133\n",
      "Epoch 3/15\n",
      "8/8 [==============================] - 7s 908ms/step - loss: 0.5616 - acc: 0.7026 - val_loss: 0.4269 - val_acc: 0.8400\n",
      "Epoch 4/15\n",
      "8/8 [==============================] - 7s 915ms/step - loss: 0.5481 - acc: 0.7491 - val_loss: 0.4340 - val_acc: 0.8200\n",
      "Epoch 5/15\n",
      "8/8 [==============================] - 7s 895ms/step - loss: 0.4476 - acc: 0.8240 - val_loss: 0.4820 - val_acc: 0.7600\n",
      "Epoch 6/15\n",
      "8/8 [==============================] - 7s 867ms/step - loss: 0.4114 - acc: 0.7828 - val_loss: 0.3750 - val_acc: 0.8767\n",
      "Epoch 7/15\n",
      "8/8 [==============================] - 7s 885ms/step - loss: 0.3162 - acc: 0.8810 - val_loss: 0.5531 - val_acc: 0.8133\n",
      "Epoch 8/15\n",
      "8/8 [==============================] - 8s 986ms/step - loss: 0.3290 - acc: 0.8784 - val_loss: 0.2951 - val_acc: 0.9200\n",
      "Epoch 9/15\n",
      "8/8 [==============================] - 7s 917ms/step - loss: 0.1972 - acc: 0.9167 - val_loss: 0.5468 - val_acc: 0.7733\n",
      "Epoch 10/15\n",
      "8/8 [==============================] - 7s 917ms/step - loss: 0.5331 - acc: 0.7776 - val_loss: 0.2663 - val_acc: 0.8967\n",
      "Epoch 11/15\n",
      "8/8 [==============================] - 8s 1s/step - loss: 0.3276 - acc: 0.8845 - val_loss: 0.3626 - val_acc: 0.8800\n",
      "Epoch 12/15\n",
      "8/8 [==============================] - 8s 990ms/step - loss: 0.2456 - acc: 0.8995 - val_loss: 0.3033 - val_acc: 0.9000\n",
      "Epoch 13/15\n",
      "8/8 [==============================] - 8s 1s/step - loss: 0.3125 - acc: 0.8666 - val_loss: 0.2717 - val_acc: 0.9333\n",
      "Epoch 14/15\n",
      "8/8 [==============================] - 8s 973ms/step - loss: 0.2502 - acc: 0.9120 - val_loss: 0.2454 - val_acc: 0.9267\n",
      "Epoch 15/15\n",
      "8/8 [==============================] - 7s 867ms/step - loss: 0.1806 - acc: 0.9338 - val_loss: 0.2312 - val_acc: 0.9267\n",
      "Epoch 1/15\n",
      "8/8 [==============================] - 8s 910ms/step - loss: 279.8351 - acc: 0.5119 - val_loss: 0.7767 - val_acc: 0.5233\n",
      "Epoch 2/15\n",
      "8/8 [==============================] - 7s 839ms/step - loss: 1.5244 - acc: 0.4688 - val_loss: 0.7703 - val_acc: 0.4533\n",
      "Epoch 3/15\n",
      "8/8 [==============================] - 7s 912ms/step - loss: 0.6971 - acc: 0.5513 - val_loss: 0.6395 - val_acc: 0.5833\n",
      "Epoch 4/15\n",
      "8/8 [==============================] - 7s 907ms/step - loss: 0.6410 - acc: 0.6194 - val_loss: 0.6510 - val_acc: 0.5800\n",
      "Epoch 5/15\n",
      "8/8 [==============================] - 7s 909ms/step - loss: 0.6685 - acc: 0.6240 - val_loss: 0.6945 - val_acc: 0.4967\n",
      "Epoch 6/15\n",
      "8/8 [==============================] - 7s 897ms/step - loss: 0.6678 - acc: 0.6589 - val_loss: 0.7559 - val_acc: 0.5000\n",
      "Epoch 7/15\n",
      "8/8 [==============================] - 7s 888ms/step - loss: 0.6105 - acc: 0.6596 - val_loss: 0.5795 - val_acc: 0.6600\n",
      "Epoch 8/15\n",
      "8/8 [==============================] - 7s 838ms/step - loss: 0.4911 - acc: 0.7953 - val_loss: 0.5034 - val_acc: 0.7433\n",
      "Epoch 9/15\n",
      "8/8 [==============================] - 7s 841ms/step - loss: 0.4275 - acc: 0.8046 - val_loss: 0.4839 - val_acc: 0.7933\n",
      "Epoch 10/15\n",
      "8/8 [==============================] - 7s 854ms/step - loss: 0.4695 - acc: 0.8000 - val_loss: 0.5195 - val_acc: 0.7633\n",
      "Epoch 11/15\n",
      "8/8 [==============================] - 7s 835ms/step - loss: 0.5966 - acc: 0.6989 - val_loss: 0.7308 - val_acc: 0.6600\n",
      "Epoch 12/15\n",
      "8/8 [==============================] - 7s 858ms/step - loss: 1.1181 - acc: 0.7055 - val_loss: 0.5990 - val_acc: 0.6767\n",
      "Epoch 13/15\n",
      "8/8 [==============================] - 7s 839ms/step - loss: 0.5095 - acc: 0.7623 - val_loss: 0.5471 - val_acc: 0.7333\n",
      "Epoch 14/15\n",
      "8/8 [==============================] - 7s 828ms/step - loss: 0.3992 - acc: 0.8176 - val_loss: 0.4761 - val_acc: 0.7667\n",
      "Epoch 15/15\n",
      "8/8 [==============================] - 7s 835ms/step - loss: 0.3936 - acc: 0.7920 - val_loss: 0.5692 - val_acc: 0.8500\n"
     ]
    },
    {
     "data": {
      "image/png": "[encoded data removed]",
      "text/plain": [
       "<Figure size 720x720 with 4 Axes>"
      ]
     },
     "metadata": {
      "needs_background": "light"
     },
     "output_type": "display_data"
    }
   ],
   "source": [
    "lr=[0.00001,0.0001,0.001,0.01]\n",
    "fig,axes=pyplot.subplots(2,2,figsize=(12,7))\n",
    "for i in range(len(lr)):\n",
    "    fit_model(lr[i],axes[i//2,i%2])\n",
    "# show learning curves\n",
    "\n",
    "pyplot.show()\n"
   ]
  },
  {
   "cell_type": "code",
   "execution_count": 15,
   "metadata": {},
   "outputs": [
    {
     "name": "stdout",
     "output_type": "stream",
     "text": [
      "Model: \"sequential_1\"\n",
      "_________________________________________________________________\n",
      "Layer (type)                 Output Shape              Param #   \n",
      "=================================================================\n",
      "conv2d_2 (Conv2D)            (None, 148, 148, 32)      896       \n",
      "_________________________________________________________________\n",
      "max_pooling2d_2 (MaxPooling2 (None, 74, 74, 32)        0         \n",
      "_________________________________________________________________\n",
      "conv2d_3 (Conv2D)            (None, 72, 72, 64)        18496     \n",
      "_________________________________________________________________\n",
      "max_pooling2d_3 (MaxPooling2 (None, 36, 36, 64)        0         \n",
      "_________________________________________________________________\n",
      "flatten_1 (Flatten)          (None, 82944)             0         \n",
      "_________________________________________________________________\n",
      "dropout_1 (Dropout)          (None, 82944)             0         \n",
      "_________________________________________________________________\n",
      "dense_2 (Dense)              (None, 512)               42467840  \n",
      "_________________________________________________________________\n",
      "dense_3 (Dense)              (None, 1)                 513       \n",
      "=================================================================\n",
      "Total params: 42,487,745\n",
      "Trainable params: 42,487,745\n",
      "Non-trainable params: 0\n",
      "_________________________________________________________________\n"
     ]
    }
   ],
   "source": [
    "model = tf.keras.models.Sequential([\n",
    "    tf.keras.layers.Conv2D(32, (3, 3), activation='relu', input_shape=(150, 150, 3)),\n",
    "    tf.keras.layers.MaxPooling2D(2, 2),\n",
    "    tf.keras.layers.Conv2D(64, (3, 3), activation='relu'),\n",
    "    tf.keras.layers.MaxPooling2D(2, 2),\n",
    "#     tf.keras.layers.Conv2D(128, (3, 3), activation='relu'),\n",
    "#     tf.keras.layers.MaxPooling2D(2, 2),\n",
    "    tf.keras.layers.Flatten(),\n",
    "    tf.keras.layers.Dropout(0.5),\n",
    "    tf.keras.layers.Dense(512, activation='relu'),\n",
    "    tf.keras.layers.Dense(1, activation='sigmoid')\n",
    "    \n",
    "])\n",
    "\n",
    "model.compile(optimizer=Adam(lr=0.0001), loss='binary_crossentropy', metrics=['acc'])\n",
    "model.summary()"
   ]
  },
  {
   "cell_type": "code",
   "execution_count": 16,
   "metadata": {},
   "outputs": [
    {
     "name": "stdout",
     "output_type": "stream",
     "text": [
      "Epoch 1/15\n",
      "60/60 [==============================] - 72s 1s/step - loss: 0.5983 - acc: 0.7015 - val_loss: 0.3605 - val_acc: 0.8800\n",
      "Epoch 2/15\n",
      "60/60 [==============================] - 72s 1s/step - loss: 0.3069 - acc: 0.8699 - val_loss: 0.4007 - val_acc: 0.8467\n",
      "Epoch 3/15\n",
      "60/60 [==============================] - 80s 1s/step - loss: 0.1857 - acc: 0.9326 - val_loss: 0.2412 - val_acc: 0.9133\n",
      "Epoch 4/15\n",
      "60/60 [==============================] - 87s 1s/step - loss: 0.1727 - acc: 0.9419 - val_loss: 0.2837 - val_acc: 0.9000\n",
      "Epoch 5/15\n",
      "60/60 [==============================] - 86s 1s/step - loss: 0.1357 - acc: 0.9553 - val_loss: 0.2407 - val_acc: 0.9033\n",
      "Epoch 6/15\n",
      "60/60 [==============================] - 86s 1s/step - loss: 0.1318 - acc: 0.9572 - val_loss: 0.2668 - val_acc: 0.9200\n",
      "Epoch 7/15\n",
      "60/60 [==============================] - 91s 2s/step - loss: 0.1013 - acc: 0.9691 - val_loss: 0.2178 - val_acc: 0.9367\n",
      "Epoch 8/15\n",
      "60/60 [==============================] - 76s 1s/step - loss: 0.0871 - acc: 0.9721 - val_loss: 0.1792 - val_acc: 0.9333\n",
      "Epoch 9/15\n",
      "60/60 [==============================] - 90s 2s/step - loss: 0.0717 - acc: 0.9794 - val_loss: 0.2557 - val_acc: 0.9100\n",
      "Epoch 10/15\n",
      "60/60 [==============================] - 96s 2s/step - loss: 0.0607 - acc: 0.9799 - val_loss: 0.2612 - val_acc: 0.9133\n",
      "Epoch 11/15\n",
      "60/60 [==============================] - 78s 1s/step - loss: 0.0586 - acc: 0.9832 - val_loss: 0.1744 - val_acc: 0.9467\n",
      "Epoch 12/15\n",
      "60/60 [==============================] - 96s 2s/step - loss: 0.0403 - acc: 0.9887 - val_loss: 0.2781 - val_acc: 0.9233\n",
      "Epoch 13/15\n",
      "60/60 [==============================] - 88s 1s/step - loss: 0.0423 - acc: 0.9888 - val_loss: 0.2197 - val_acc: 0.9267\n",
      "Epoch 14/15\n",
      "60/60 [==============================] - 101s 2s/step - loss: 0.0328 - acc: 0.9925 - val_loss: 0.2238 - val_acc: 0.9167\n",
      "Epoch 15/15\n",
      "60/60 [==============================] - 101s 2s/step - loss: 0.0308 - acc: 0.9954 - val_loss: 0.2063 - val_acc: 0.9467\n"
     ]
    }
   ],
   "source": [
    "history = model.fit(\n",
    "      train_generator,\n",
    "      steps_per_epoch=60,\n",
    "      epochs=15,\n",
    "      validation_data=validation_generator,\n",
    "      validation_steps=6)"
   ]
  },
  {
   "cell_type": "code",
   "execution_count": 17,
   "metadata": {
    "scrolled": false
   },
   "outputs": [
    {
     "data": {
      "image/png": "[encoded data removed]",
      "text/plain": [
       "<Figure size 432x288 with 1 Axes>"
      ]
     },
     "metadata": {
      "needs_background": "light"
     },
     "output_type": "display_data"
    },
    {
     "data": {
      "image/png": "[encoded data removed]",
      "text/plain": [
       "<Figure size 432x288 with 1 Axes>"
      ]
     },
     "metadata": {
      "needs_background": "light"
     },
     "output_type": "display_data"
    },
    {
     "data": {
      "text/plain": [
       "<Figure size 432x288 with 0 Axes>"
      ]
     },
     "metadata": {},
     "output_type": "display_data"
    }
   ],
   "source": [
    "# %matplotlib inline\n",
    "\n",
    "#import matplotlib.image  as mpimg\n",
    "import matplotlib.pyplot as plt\n",
    "\n",
    "#-----------------------------------------------------------\n",
    "# Retrieve a list of list results on training and test data\n",
    "# sets for each training epoch\n",
    "#-----------------------------------------------------------\n",
    "acc=history.history['acc']\n",
    "val_acc=history.history['val_acc']\n",
    "loss=history.history['loss']\n",
    "val_loss=history.history['val_loss']\n",
    "\n",
    "epochs=range(len(acc)) # Get number of epochs\n",
    "\n",
    "#------------------------------------------------\n",
    "# Plot training and validation accuracy per epoch\n",
    "#------------------------------------------------\n",
    "plt.plot(epochs, acc, 'r', label='Training Accuracy')\n",
    "plt.plot(epochs, val_acc, 'b', label='Validation Accuracy')\n",
    "plt.title('Training and validation accuracy')\n",
    "plt.legend(loc=0)\n",
    "plt.figure()\n",
    "\n",
    "#------------------------------------------------\n",
    "# Plot training and validation loss per epoch\n",
    "#------------------------------------------------\n",
    "plt.plot(epochs, loss, 'r', label='Training Loss')\n",
    "plt.plot(epochs, val_loss, 'b', label='Validation Loss')\n",
    "plt.title('Training and validation Loss')\n",
    "plt.legend(loc=0)\n",
    "plt.figure()\n",
    "\n",
    "plt.show()\n",
    "\n",
    "# Desired output. Charts with training and validation metrics. No crash"
   ]
  },
  {
   "cell_type": "code",
   "execution_count": 33,
   "metadata": {},
   "outputs": [],
   "source": [
    "model_path = \"./modelfxh\"\n",
    "\n",
    "if not os.path.exists(model_path):\n",
    "    os.mkdir(model_path)\n",
    "\n",
    "callback = tf.keras.callbacks.ModelCheckpoint(filepath=model_path,\n",
    "                                              save_weights_only=False,\n",
    "                                              verbose=1)"
   ]
  },
  {
   "cell_type": "code",
   "execution_count": 34,
   "metadata": {},
   "outputs": [
    {
     "name": "stdout",
     "output_type": "stream",
     "text": [
      "INFO:tensorflow:Assets written to: ./modelfxh\\assets\n"
     ]
    },
    {
     "name": "stderr",
     "output_type": "stream",
     "text": [
      "INFO:tensorflow:Assets written to: ./modelfxh\\assets\n"
     ]
    }
   ],
   "source": [
    "tf.saved_model.save(model, './modelfxh')"
   ]
  },
  {
   "cell_type": "code",
   "execution_count": null,
   "metadata": {},
   "outputs": [],
   "source": [
    "from tensorflow.python.framework.convert_to_constants import convert_variables_to_constants_v2\n",
    "# Convert Keras model to ConcreteFunction\n",
    "full_model = tf.function(lambda x: model(x))\n",
    "full_model = full_model.get_concrete_function(\n",
    "    tf.TensorSpec(model.inputs[0].shape, model.inputs[0].dtype))\n",
    "\n",
    "# Get frozen ConcreteFunction\n",
    "frozen_func = convert_variables_to_constants_v2(full_model)\n",
    "frozen_func.graph.as_graph_def()\n",
    "\n",
    "layers = [op.name for op in frozen_func.graph.get_operations()]\n",
    "print(\"-\" * 50)\n",
    "print(\"Frozen model layers: \")\n",
    "for layer in layers:\n",
    "    print(layer)\n",
    "\n",
    "print(\"-\" * 50)\n",
    "print(\"Frozen model inputs: \")\n",
    "print(frozen_func.inputs)\n",
    "print(\"Frozen model outputs: \")\n",
    "print(frozen_func.outputs)\n",
    "\n",
    "# Save frozen graph from frozen ConcreteFunction to hard drive\n",
    "tf.io.write_graph(graph_or_graph_def=frozen_func.graph,\n",
    "                  logdir=\"./frozen_models\",\n",
    "                  name=\"frozen_graph.pb\",\n",
    "                  as_text=False)"
   ]
  },
  {
   "cell_type": "code",
   "execution_count": 7,
   "metadata": {},
   "outputs": [
    {
     "data": {
      "text/plain": [
       "<tensorflow.python.keras.engine.sequential.Sequential at 0x25166c17f10>"
      ]
     },
     "execution_count": 7,
     "metadata": {},
     "output_type": "execute_result"
    }
   ],
   "source": [
    "new_model = tf.keras.models.load_model('C:\\\\Users\\\\a\\\\Documents\\\\casa\\\\casa0018\\\\final\\\\modelfxh')\n",
    "new_model"
   ]
  },
  {
   "cell_type": "code",
   "execution_count": null,
   "metadata": {},
   "outputs": [],
   "source": [
    "import cv2\n",
    "from keras.preprocessing import image\n",
    "from keras.models import load_model\n",
    "import numpy as np\n",
    "import dlib\n",
    "from PIL import Image\n",
    "model = load_model('C:\\\\Users\\\\a\\\\Documents\\\\casa\\\\casa0018\\\\final\\\\check_point.h5')\n",
    "detector = dlib.get_frontal_face_detector()\n",
    "video=cv2.VideoCapture(0)\n",
    "font = cv2.FONT_HERSHEY_SIMPLEX\n",
    "def rec(img):\n",
    "    gray=cv2.cvtColor(img,cv2.COLOR_BGR2GRAY)\n",
    "    dets=detector(gray,1)\n",
    "    if dets is not None:\n",
    "        for face in dets:\n",
    "            left=face.left()\n",
    "            top=face.top()\n",
    "            right=face.right()\n",
    "            bottom=face.bottom()\n",
    "            cv2.rectangle(img,(left,top),(right,bottom),(0,255,0),2)\n",
    "            img1=cv2.resize(img[top:bottom,left:right],dsize=(150,150))\n",
    "            img1=cv2.cvtColor(img1,cv2.COLOR_BGR2RGB)\n",
    "            img1 = np.array(img1)/255.\n",
    "            img_tensor = img1.reshape(-1,150,150,3)\n",
    "            prediction =model.predict(img_tensor)    \n",
    "            if prediction[0][0]>0.5:\n",
    "                result='unsmile'\n",
    "            else:\n",
    "                result='smile'\n",
    "            cv2.putText(img, result, (left,top), font, 2, (0, 255, 0), 2, cv2.LINE_AA)\n",
    "        cv2.imshow('Video', img)\n",
    "while video.isOpened():\n",
    "    res, img_rd = video.read()\n",
    "    if not res:\n",
    "        break\n",
    "    rec(img_rd)\n",
    "    if cv2.waitKey(1) & 0xFF == ord('q'):\n",
    "        break\n",
    "video.release()\n",
    "cv2.destroyAllWindows()\n"
   ]
  },
  {
   "cell_type": "code",
   "execution_count": 107,
   "metadata": {},
   "outputs": [
    {
     "name": "stdout",
     "output_type": "stream",
     "text": [
      "1/1 [==============================] - 0s 146ms/step - loss: 0.6398 - acc: 0.7500\n"
     ]
    },
    {
     "data": {
      "text/plain": [
       "[0.639792263507843, 0.75]"
      ]
     },
     "execution_count": 107,
     "metadata": {},
     "output_type": "execute_result"
    }
   ],
   "source": [
    "model.evaluate(test_generator)"
   ]
  },
  {
   "cell_type": "code",
   "execution_count": 106,
   "metadata": {},
   "outputs": [
    {
     "name": "stdout",
     "output_type": "stream",
     "text": [
      "Found 12 images belonging to 2 classes.\n"
     ]
    }
   ],
   "source": [
    "test_datagen = ImageDataGenerator(rescale=1.0/255)#.\n",
    "test_generator = test_datagen.flow_from_directory('C:\\\\Users\\\\a\\Documents\\\\casa\\\\casa0018\\\\final\\\\test',\n",
    "                                                              batch_size=50,\n",
    "                                                              class_mode='binary',\n",
    "                                                              target_size=(150, 150))"
   ]
  },
  {
   "cell_type": "code",
   "execution_count": 24,
   "metadata": {},
   "outputs": [
    {
     "name": "stdout",
     "output_type": "stream",
     "text": [
      "INFO:tensorflow:Restoring parameters from C:\\Users\\a\\Documents\\casa\\casa0018\\final\\modelfxh\\variables\\variables\n"
     ]
    },
    {
     "name": "stderr",
     "output_type": "stream",
     "text": [
      "INFO:tensorflow:Restoring parameters from C:\\Users\\a\\Documents\\casa\\casa0018\\final\\modelfxh\\variables\\variables\n"
     ]
    },
    {
     "name": "stdout",
     "output_type": "stream",
     "text": [
      "INFO:tensorflow:The given SavedModel MetaGraphDef contains SignatureDefs with the following keys: {'serving_default', '__saved_model_init_op'}\n"
     ]
    },
    {
     "name": "stderr",
     "output_type": "stream",
     "text": [
      "INFO:tensorflow:The given SavedModel MetaGraphDef contains SignatureDefs with the following keys: {'serving_default', '__saved_model_init_op'}\n"
     ]
    },
    {
     "name": "stdout",
     "output_type": "stream",
     "text": [
      "INFO:tensorflow:input tensors info: \n"
     ]
    },
    {
     "name": "stderr",
     "output_type": "stream",
     "text": [
      "INFO:tensorflow:input tensors info: \n"
     ]
    },
    {
     "name": "stdout",
     "output_type": "stream",
     "text": [
      "INFO:tensorflow:Tensor's key in saved_model's tensor_map: conv2d_input\n"
     ]
    },
    {
     "name": "stderr",
     "output_type": "stream",
     "text": [
      "INFO:tensorflow:Tensor's key in saved_model's tensor_map: conv2d_input\n"
     ]
    },
    {
     "name": "stdout",
     "output_type": "stream",
     "text": [
      "INFO:tensorflow: tensor name: serving_default_conv2d_input:0, shape: (-1, 150, 150, 3), type: DT_FLOAT\n"
     ]
    },
    {
     "name": "stderr",
     "output_type": "stream",
     "text": [
      "INFO:tensorflow: tensor name: serving_default_conv2d_input:0, shape: (-1, 150, 150, 3), type: DT_FLOAT\n"
     ]
    },
    {
     "name": "stdout",
     "output_type": "stream",
     "text": [
      "INFO:tensorflow:output tensors info: \n"
     ]
    },
    {
     "name": "stderr",
     "output_type": "stream",
     "text": [
      "INFO:tensorflow:output tensors info: \n"
     ]
    },
    {
     "name": "stdout",
     "output_type": "stream",
     "text": [
      "INFO:tensorflow:Tensor's key in saved_model's tensor_map: dense_1\n"
     ]
    },
    {
     "name": "stderr",
     "output_type": "stream",
     "text": [
      "INFO:tensorflow:Tensor's key in saved_model's tensor_map: dense_1\n"
     ]
    },
    {
     "name": "stdout",
     "output_type": "stream",
     "text": [
      "INFO:tensorflow: tensor name: StatefulPartitionedCall:0, shape: (-1, 1), type: DT_FLOAT\n"
     ]
    },
    {
     "name": "stderr",
     "output_type": "stream",
     "text": [
      "INFO:tensorflow: tensor name: StatefulPartitionedCall:0, shape: (-1, 1), type: DT_FLOAT\n"
     ]
    },
    {
     "name": "stdout",
     "output_type": "stream",
     "text": [
      "INFO:tensorflow:Restoring parameters from C:\\Users\\a\\Documents\\casa\\casa0018\\final\\modelfxh\\variables\\variables\n"
     ]
    },
    {
     "name": "stderr",
     "output_type": "stream",
     "text": [
      "INFO:tensorflow:Restoring parameters from C:\\Users\\a\\Documents\\casa\\casa0018\\final\\modelfxh\\variables\\variables\n"
     ]
    },
    {
     "name": "stdout",
     "output_type": "stream",
     "text": [
      "INFO:tensorflow:Restoring parameters from C:\\Users\\a\\Documents\\casa\\casa0018\\final\\modelfxh\\variables\\variables\n"
     ]
    },
    {
     "name": "stderr",
     "output_type": "stream",
     "text": [
      "INFO:tensorflow:Restoring parameters from C:\\Users\\a\\Documents\\casa\\casa0018\\final\\modelfxh\\variables\\variables\n"
     ]
    },
    {
     "name": "stdout",
     "output_type": "stream",
     "text": [
      "INFO:tensorflow:The given SavedModel MetaGraphDef contains SignatureDefs with the following keys: {'serving_default', '__saved_model_init_op'}\n"
     ]
    },
    {
     "name": "stderr",
     "output_type": "stream",
     "text": [
      "INFO:tensorflow:The given SavedModel MetaGraphDef contains SignatureDefs with the following keys: {'serving_default', '__saved_model_init_op'}\n"
     ]
    },
    {
     "name": "stdout",
     "output_type": "stream",
     "text": [
      "INFO:tensorflow:input tensors info: \n"
     ]
    },
    {
     "name": "stderr",
     "output_type": "stream",
     "text": [
      "INFO:tensorflow:input tensors info: \n"
     ]
    },
    {
     "name": "stdout",
     "output_type": "stream",
     "text": [
      "INFO:tensorflow:Tensor's key in saved_model's tensor_map: conv2d_input\n"
     ]
    },
    {
     "name": "stderr",
     "output_type": "stream",
     "text": [
      "INFO:tensorflow:Tensor's key in saved_model's tensor_map: conv2d_input\n"
     ]
    },
    {
     "name": "stdout",
     "output_type": "stream",
     "text": [
      "INFO:tensorflow: tensor name: serving_default_conv2d_input:0, shape: (-1, 150, 150, 3), type: DT_FLOAT\n"
     ]
    },
    {
     "name": "stderr",
     "output_type": "stream",
     "text": [
      "INFO:tensorflow: tensor name: serving_default_conv2d_input:0, shape: (-1, 150, 150, 3), type: DT_FLOAT\n"
     ]
    },
    {
     "name": "stdout",
     "output_type": "stream",
     "text": [
      "INFO:tensorflow:output tensors info: \n"
     ]
    },
    {
     "name": "stderr",
     "output_type": "stream",
     "text": [
      "INFO:tensorflow:output tensors info: \n"
     ]
    },
    {
     "name": "stdout",
     "output_type": "stream",
     "text": [
      "INFO:tensorflow:Tensor's key in saved_model's tensor_map: dense_1\n"
     ]
    },
    {
     "name": "stderr",
     "output_type": "stream",
     "text": [
      "INFO:tensorflow:Tensor's key in saved_model's tensor_map: dense_1\n"
     ]
    },
    {
     "name": "stdout",
     "output_type": "stream",
     "text": [
      "INFO:tensorflow: tensor name: StatefulPartitionedCall:0, shape: (-1, 1), type: DT_FLOAT\n"
     ]
    },
    {
     "name": "stderr",
     "output_type": "stream",
     "text": [
      "INFO:tensorflow: tensor name: StatefulPartitionedCall:0, shape: (-1, 1), type: DT_FLOAT\n"
     ]
    },
    {
     "name": "stdout",
     "output_type": "stream",
     "text": [
      "INFO:tensorflow:Restoring parameters from C:\\Users\\a\\Documents\\casa\\casa0018\\final\\modelfxh\\variables\\variables\n"
     ]
    },
    {
     "name": "stderr",
     "output_type": "stream",
     "text": [
      "INFO:tensorflow:Restoring parameters from C:\\Users\\a\\Documents\\casa\\casa0018\\final\\modelfxh\\variables\\variables\n",
      "Use '@tf.function' or '@defun' to decorate the function.Use '@tf.function' or '@defun' to decorate the function.Use '@tf.function' or '@defun' to decorate the function.Use '@tf.function' or '@defun' to decorate the function.Use '@tf.function' or '@defun' to decorate the function.Use '@tf.function' or '@defun' to decorate the function.Use '@tf.function' or '@defun' to decorate the function.Use '@tf.function' or '@defun' to decorate the function.Use '@tf.function' or '@defun' to decorate the function.Use '@tf.function' or '@defun' to decorate the function.Use '@tf.function' or '@defun' to decorate the function.Use '@tf.function' or '@defun' to decorate the function.Use '@tf.function' or '@defun' to decorate the function.Use '@tf.function' or '@defun' to decorate the function.Use '@tf.function' or '@defun' to decorate the function.Use '@tf.function' or '@defun' to decorate the function.Use '@tf.function' or '@defun' to decorate the function.Use '@tf.function' or '@defun' to decorate the function.Use '@tf.function' or '@defun' to decorate the function.Use '@tf.function' or '@defun' to decorate the function.Use '@tf.function' or '@defun' to decorate the function.Use '@tf.function' or '@defun' to decorate the function.Use '@tf.function' or '@defun' to decorate the function.Use '@tf.function' or '@defun' to decorate the function.Use '@tf.function' or '@defun' to decorate the function.Use '@tf.function' or '@defun' to decorate the function.Use '@tf.function' or '@defun' to decorate the function.Use '@tf.function' or '@defun' to decorate the function.Use '@tf.function' or '@defun' to decorate the function.Use '@tf.function' or '@defun' to decorate the function."
     ]
    }
   ],
   "source": [
    " import tensorflow as tf\n",
    "\n",
    "# Convert the model.\n",
    "converter = tf.compat.v1.lite.TFLiteConverter.from_saved_model('C:\\\\Users\\\\a\\\\Documents\\\\casa\\\\casa0018\\\\final\\\\modelfxh')\n",
    "tflite_model = converter.convert()\n",
    "\n",
    "# Save the model.\n",
    "with open('model.tflite', 'wb') as f:\n",
    "    f.write(tflite_model)"
   ]
  },
  {
   "cell_type": "code",
   "execution_count": null,
   "metadata": {},
   "outputs": [],
   "source": [
    "from markdown import markdown\n",
    "import pdfkit\n",
    " \n",
    "path_wk = r'C:\\Users\\a\\Downloads\\wkhtmltox-0.12.6-1.msvc2015-win64.exe' #安装位置\n",
    "config = pdfkit.configuration(wkhtmltopdf = path_wk)\n",
    " \n",
    "input_filename = '.\\\\README.md'\n",
    "output_filename = 'wsl.pdf'\n",
    " \n",
    "with open(input_filename, 'r') as f:\n",
    "    html_text = markdown(f.read(), output_format='html4')\n",
    " \n",
    "pdfkit.from_string(html_text, output_filename, configuration = config)"
   ]
  }
 ],
 "metadata": {
  "kernelspec": {
   "display_name": "Python [conda env:deep_learning]",
   "language": "python",
   "name": "conda-env-deep_learning-py"
  },
  "language_info": {
   "codemirror_mode": {
    "name": "ipython",
    "version": 3
   },
   "file_extension": ".py",
   "mimetype": "text/x-python",
   "name": "python",
   "nbconvert_exporter": "python",
   "pygments_lexer": "ipython3",
   "version": "3.8.8"
  }
 },
 "nbformat": 4,
 "nbformat_minor": 4
}
